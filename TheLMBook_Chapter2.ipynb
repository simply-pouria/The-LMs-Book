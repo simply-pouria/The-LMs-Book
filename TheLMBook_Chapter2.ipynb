{
  "nbformat": 4,
  "nbformat_minor": 0,
  "metadata": {
    "colab": {
      "provenance": [],
      "mount_file_id": "1hQ1oPOT7DbqQHwedj4IQMRRvGIHbib1z",
      "authorship_tag": "ABX9TyMJP/F5ONRLP3YbC+F8BiVZ",
      "include_colab_link": true
    },
    "kernelspec": {
      "name": "python3",
      "display_name": "Python 3"
    },
    "language_info": {
      "name": "python"
    }
  },
  "cells": [
    {
      "cell_type": "markdown",
      "metadata": {
        "id": "view-in-github",
        "colab_type": "text"
      },
      "source": [
        "<a href=\"https://colab.research.google.com/github/simply-pouria/The-LMs-Book/blob/main/TheLMBook_Chapter2.ipynb\" target=\"_parent\"><img src=\"https://colab.research.google.com/assets/colab-badge.svg\" alt=\"Open In Colab\"/></a>"
      ]
    },
    {
      "cell_type": "code",
      "execution_count": 1,
      "metadata": {
        "id": "qppRH29kpfHo"
      },
      "outputs": [],
      "source": [
        "import re\n",
        "import torch\n",
        "import torch.nn as nn\n",
        "torch.manual_seed(42)\n",
        "\n",
        "docs = [\n",
        " \"Movies are fun for everyone.\",\n",
        " \"Watching movies is great fun.\",\n",
        " \"Enjoy a great movie today.\",\n",
        " \"Research is interesting and important.\",\n",
        " \"Learning math is very important.\",\n",
        " \"Science discovery is interesting.\",\n",
        " \"Rock is great to listen to.\",\n",
        " \"Listen to music for fun.\",\n",
        " \"Music is fun for everyone.\",\n",
        " \"Listen to folk music!\"\n",
        "]\n",
        "labels = [1, 1, 1, 3, 3, 3, 2, 2, 2, 2]\n",
        "num_classes = len(set(labels))\n",
        "\n",
        "def tokenize(text):\n",
        "  return re.findall(r\"\\w+\", text.lower())\n",
        "def get_vocabulary(texts):\n",
        "  tokens = {token for text in texts for token in tokenize(text)}\n",
        "  return {word: idx for idx, word in enumerate(sorted(tokens))}\n",
        "\n",
        "vocabulary = get_vocabulary(docs)\n",
        "\n",
        "def doc_to_bow(doc, vocabulary):\n",
        "  tokens = set(tokenize(doc))\n",
        "  bow = [0] * len(vocabulary)\n",
        "  for token in tokens:\n",
        "    if token in vocabulary:\n",
        "      bow[vocabulary[token]] = 1\n",
        "      return bow\n",
        "\n",
        "vectors = torch.tensor(\n",
        " [doc_to_bow(doc, vocabulary) for doc in docs],\n",
        " dtype=torch.float32\n",
        ")\n",
        "labels = torch.tensor(labels, dtype=torch.long) - 1\n",
        "\n",
        "input_dim = len(vocabulary)\n",
        "hidden_dim = 50\n",
        "output_dim = num_classes\n",
        "\n",
        "class SimpleClassifier(nn.Module):\n",
        "  def __init__(self, input_dim, hidden_dim, output_dim):\n",
        "    super().__init__()\n",
        "    self.fc1 = nn.Linear(input_dim, hidden_dim)\n",
        "    self.relu = nn.ReLU()\n",
        "    self.fc2 = nn.Linear(hidden_dim, output_dim)\n",
        "  def forward(self, x):\n",
        "    x = self.fc1(x)\n",
        "    x = self.relu(x)\n",
        "    x = self.fc2(x)\n",
        "    return x\n",
        "model = SimpleClassifier(input_dim, hidden_dim, output_dim)\n",
        "criterion = nn.CrossEntropyLoss()\n",
        "optimizer = torch.optim.SGD(model.parameters(), lr=0.001)\n",
        "\n",
        "for step in range(3000):\n",
        "  optimizer.zero_grad()\n",
        "  loss = criterion(model(vectors), labels)\n",
        "  loss.backward()\n",
        "  optimizer.step()\n",
        "\n",
        "\n",
        "\n",
        ""
      ]
    },
    {
      "cell_type": "code",
      "source": [
        "new_docs = [\n",
        " \"Listening to rock music is fun.\",\n",
        " \"I like to listen to this song.\"\n",
        "]\n",
        "class_names = [\"Cinema\", \"Music\", \"Science\"]\n",
        "new_doc_vectors = torch.tensor(\n",
        " [doc_to_bow(new_doc, vocabulary) for new_doc in new_docs]\n",
        ",\n",
        " dtype=torch.float32\n",
        ")\n",
        "with torch.no_grad():\n",
        " outputs = model(new_doc_vectors)\n",
        " predicted_ids = torch.argmax(outputs, dim=1) + 1\n",
        "for i, new_doc in enumerate(new_docs):\n",
        " print(f'{new_doc}: {class_names[predicted_ids[i].item() -1]}')"
      ],
      "metadata": {
        "colab": {
          "base_uri": "https://localhost:8080/"
        },
        "id": "fY2IWJkkpihx",
        "outputId": "48f8815e-afb9-43f3-e830-0a046cb07ec5"
      },
      "execution_count": 4,
      "outputs": [
        {
          "output_type": "stream",
          "name": "stdout",
          "text": [
            "Listening to rock music is fun.: Music\n",
            "I like to listen to this song.: Music\n"
          ]
        }
      ]
    }
  ]
}