{
  "nbformat": 4,
  "nbformat_minor": 0,
  "metadata": {
    "colab": {
      "provenance": [],
      "authorship_tag": "ABX9TyPkgEnQrZmm5Vuw70oOOf6g",
      "include_colab_link": true
    },
    "kernelspec": {
      "name": "python3",
      "display_name": "Python 3"
    },
    "language_info": {
      "name": "python"
    }
  },
  "cells": [
    {
      "cell_type": "markdown",
      "metadata": {
        "id": "view-in-github",
        "colab_type": "text"
      },
      "source": [
        "<a href=\"https://colab.research.google.com/github/simply-pouria/The-LMs-Book/blob/main/TheLMBook_Chapter3.ipynb\" target=\"_parent\"><img src=\"https://colab.research.google.com/assets/colab-badge.svg\" alt=\"Open In Colab\"/></a>"
      ]
    },
    {
      "cell_type": "markdown",
      "source": [
        "# Implementing an RNN"
      ],
      "metadata": {
        "id": "mxbEZT8SajDZ"
      }
    },
    {
      "cell_type": "markdown",
      "source": [
        "### Elman RNN Unit"
      ],
      "metadata": {
        "id": "E71B7WR-apdn"
      }
    },
    {
      "cell_type": "code",
      "execution_count": 4,
      "metadata": {
        "id": "iH7At_7SGSy6"
      },
      "outputs": [],
      "source": [
        "import torch\n",
        "import torch.nn as nn\n",
        "class ElmanRNNUnit(nn.Module):\n",
        "  def __init__(self, emb_dim):\n",
        "    super().__init__()\n",
        "    self.Uh = nn.Parameter(torch.randn(emb_dim, emb_dim))\n",
        "    self.Wh = nn.Parameter(torch.randn(emb_dim, emb_dim))\n",
        "    self.b = nn.Parameter(torch.zeros(emb_dim))\n",
        "\n",
        "  def forward(self, x, h):\n",
        "      return torch.tanh(x @ self.Wh + h @ self.Uh + self.b)"
      ]
    },
    {
      "cell_type": "markdown",
      "source": [
        "### Implementing the Elman RNN itself"
      ],
      "metadata": {
        "id": "q9UQLNIQa2TH"
      }
    },
    {
      "cell_type": "code",
      "source": [
        "class ElmanRNN(nn.Module):\n",
        "    def __init__(self, emb_dim, num_layers):\n",
        "        super().__init__()\n",
        "        self.emb_dim = emb_dim\n",
        "        self.num_layers = num_layers\n",
        "        self.rnn_units = nn.ModuleList(\n",
        "            [ElmanRNNUnit(emb_dim) for _ in range(num_layers)] )\n",
        "\n",
        "    def forward(self, x):\n",
        "      batch_size, seq_len, emb_dim = x.shape\n",
        "      h_prev = [\n",
        "          torch.zeros(batch_size, emb_dim, device=x.device)\n",
        "\n",
        "          for _ in range(self.num_layers)\n",
        "      ]\n",
        "      outputs = []\n",
        "      for t in range(seq_len):\n",
        "          input_t = x[:, t]\n",
        "          for l, rnn_unit in enumerate(self.rnn_units):\n",
        "              h_new = rnn_unit(input_t, h_prev[l])\n",
        "              h_prev[l] = h_new    # Update hidden state\n",
        "              input_t = h_new      # Input for next layer\n",
        "          outputs.append(input_t)  # Collect outputs\n",
        "      return torch.stack(outputs, dim=1)"
      ],
      "metadata": {
        "id": "ScyCgFpDOsuu"
      },
      "execution_count": 3,
      "outputs": []
    },
    {
      "cell_type": "markdown",
      "source": [
        "### RNN as a Language Model"
      ],
      "metadata": {
        "id": "4umkeIwia8SF"
      }
    },
    {
      "cell_type": "code",
      "source": [
        "class RecurrentLanguageModel(nn.Module):\n",
        "    def __init__(self, vocab_size, emb_dim, num_layers, pad_idx):\n",
        "        super().__init__()\n",
        "        self.embedding = nn.Embedding(\n",
        "            vocab_size,\n",
        "            emb_dim,\n",
        "            padding_idx= pad_idx\n",
        "        )\n",
        "        self.rnn = ElmanRNN(emb_dim, num_layers)\n",
        "        self.fc = nn.Linear(emb_dim, vocab_size)\n",
        "\n",
        "    def forward(self, x):\n",
        "        embeddings = self.embedding(x)\n",
        "        rnn_output = self.rnn(embeddings)\n",
        "        logits = self.fc(rnn_output)\n",
        "        return logits"
      ],
      "metadata": {
        "id": "ebWcbo9FZhHh"
      },
      "execution_count": null,
      "outputs": []
    },
    {
      "cell_type": "markdown",
      "source": [],
      "metadata": {
        "id": "CZ4uv97-Zc8P"
      }
    }
  ]
}