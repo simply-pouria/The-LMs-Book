{
  "nbformat": 4,
  "nbformat_minor": 0,
  "metadata": {
    "colab": {
      "provenance": [],
      "authorship_tag": "ABX9TyM+kM71PrDGcyBaeH4MdaYF",
      "include_colab_link": true
    },
    "kernelspec": {
      "name": "python3",
      "display_name": "Python 3"
    },
    "language_info": {
      "name": "python"
    }
  },
  "cells": [
    {
      "cell_type": "markdown",
      "metadata": {
        "id": "view-in-github",
        "colab_type": "text"
      },
      "source": [
        "<a href=\"https://colab.research.google.com/github/simply-pouria/The-LMs-Book/blob/main/TheLMBook_Chapter3.ipynb\" target=\"_parent\"><img src=\"https://colab.research.google.com/assets/colab-badge.svg\" alt=\"Open In Colab\"/></a>"
      ]
    },
    {
      "cell_type": "code",
      "execution_count": 1,
      "metadata": {
        "id": "iH7At_7SGSy6"
      },
      "outputs": [],
      "source": [
        "import torch\n",
        "import torch.nn as nn\n",
        "class ElmanRNNUnit(nn.Module):\n",
        "  def __init__(self, emb_dim):\n",
        "    super().__init__()\n",
        "    self.Uh = nn.Parameter(torch.randn(emb_dim, emb_dim))\n",
        "    self.Wh = nn.Parameter(torch.randn(emb_dim, emb_dim))\n",
        "    self.b = nn.Parameter(torch.zeros(emb_dim))\n",
        "\n",
        "  def forward(self, x, h):\n",
        "      return torch.tanh(x @ self.Wh + h @ self.Uh + self.b)"
      ]
    },
    {
      "cell_type": "code",
      "source": [
        "class ElmanRNN(nn.Module):\n",
        "    def __init__(self, emb_dim, num_layers):\n",
        "        super().__init__()\n",
        "        self.emb_dim = emb_dim\n",
        "        self.num_layers = num_layers\n",
        "        self.rnn_units = nn.ModuleList(\n",
        "            [ElmanRNNUnit(emb_dim) for _ in range(num_layers)\n",
        " ]\n",
        "        )"
      ],
      "metadata": {
        "id": "ScyCgFpDOsuu"
      },
      "execution_count": 2,
      "outputs": []
    }
  ]
}