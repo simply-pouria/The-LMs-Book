{
  "nbformat": 4,
  "nbformat_minor": 0,
  "metadata": {
    "colab": {
      "provenance": [],
      "authorship_tag": "ABX9TyNjBhJTu9HRiMj/2D8ERJ4b",
      "include_colab_link": true
    },
    "kernelspec": {
      "name": "python3",
      "display_name": "Python 3"
    },
    "language_info": {
      "name": "python"
    }
  },
  "cells": [
    {
      "cell_type": "markdown",
      "metadata": {
        "id": "view-in-github",
        "colab_type": "text"
      },
      "source": [
        "<a href=\"https://colab.research.google.com/github/simply-pouria/The-LMs-Book/blob/main/TheLMBook_Chapter3.ipynb\" target=\"_parent\"><img src=\"https://colab.research.google.com/assets/colab-badge.svg\" alt=\"Open In Colab\"/></a>"
      ]
    },
    {
      "cell_type": "markdown",
      "source": [
        "# Implementing a RNN"
      ],
      "metadata": {
        "id": "mxbEZT8SajDZ"
      }
    },
    {
      "cell_type": "markdown",
      "source": [
        "### Elman RNN Unit"
      ],
      "metadata": {
        "id": "E71B7WR-apdn"
      }
    },
    {
      "cell_type": "code",
      "execution_count": null,
      "metadata": {
        "id": "iH7At_7SGSy6"
      },
      "outputs": [],
      "source": [
        "import torch\n",
        "import torch.nn as nn\n",
        "class ElmanRNNUnit(nn.Module):\n",
        "  def __init__(self, emb_dim):\n",
        "    super().__init__()\n",
        "    self.Uh = nn.Parameter(torch.randn(emb_dim, emb_dim))\n",
        "    self.Wh = nn.Parameter(torch.randn(emb_dim, emb_dim))\n",
        "    self.b = nn.Parameter(torch.zeros(emb_dim))\n",
        "\n",
        "  def forward(self, x, h):\n",
        "      return torch.tanh(x @ self.Wh + h @ self.Uh + self.b)"
      ]
    },
    {
      "cell_type": "markdown",
      "source": [
        "### Implementing the Elman RNN itself"
      ],
      "metadata": {
        "id": "q9UQLNIQa2TH"
      }
    },
    {
      "cell_type": "code",
      "source": [
        "class ElmanRNN(nn.Module):\n",
        "    def __init__(self, emb_dim, num_layers):\n",
        "        super().__init__()\n",
        "        self.emb_dim = emb_dim\n",
        "        self.num_layers = num_layers\n",
        "        self.rnn_units = nn.ModuleList(\n",
        "            [ElmanRNNUnit(emb_dim) for _ in range(num_layers)] )\n",
        "\n",
        "    def forward(self, x):\n",
        "      batch_size, seq_len, emb_dim = x.shape\n",
        "      h_prev = [\n",
        "          torch.zeros(batch_size, emb_dim, device=x.device)\n",
        "\n",
        "          for _ in range(self.num_layers)\n",
        "      ]\n",
        "      outputs = []\n",
        "      for t in range(seq_len):\n",
        "          input_t = x[:, t]\n",
        "          for l, rnn_unit in enumerate(self.rnn_units):\n",
        "              h_new = rnn_unit(input_t, h_prev[l])\n",
        "              h_prev[l] = h_new    # Update hidden state\n",
        "              input_t = h_new      # Input for next layer\n",
        "          outputs.append(input_t)  # Collect outputs\n",
        "      return torch.stack(outputs, dim=1)"
      ],
      "metadata": {
        "id": "ScyCgFpDOsuu"
      },
      "execution_count": null,
      "outputs": []
    },
    {
      "cell_type": "markdown",
      "source": [
        "### RNN as a Language Model"
      ],
      "metadata": {
        "id": "4umkeIwia8SF"
      }
    },
    {
      "cell_type": "code",
      "source": [
        "class RecurrentLanguageModel(nn.Module):\n",
        "    def __init__(self, vocab_size, emb_dim, num_layers, pad_idx):\n",
        "        super().__init__()\n",
        "        self.embedding = nn.Embedding(\n",
        "            vocab_size,\n",
        "            emb_dim,\n",
        "            padding_idx= pad_idx\n",
        "        )\n",
        "        self.rnn = ElmanRNN(emb_dim, num_layers)\n",
        "        self.fc = nn.Linear(emb_dim, vocab_size)\n",
        "\n",
        "    def forward(self, x):\n",
        "        embeddings = self.embedding(x)\n",
        "        rnn_output = self.rnn(embeddings)\n",
        "        logits = self.fc(rnn_output)\n",
        "        return logits"
      ],
      "metadata": {
        "id": "ebWcbo9FZhHh"
      },
      "execution_count": null,
      "outputs": []
    },
    {
      "cell_type": "markdown",
      "source": [
        "## Initializing Training"
      ],
      "metadata": {
        "id": "temQPxwM6Atr"
      }
    },
    {
      "cell_type": "code",
      "source": [
        "import torch, torch.nn as nn\n",
        "\n",
        "def set_seed(seed):\n",
        "    random.seed(seed)\n",
        "    torch.manual_seed(seed)\n",
        "    torch.cuda.manual_seed_all(seed)\n",
        "    torch.backends.cudnn.deterministic = True\n",
        "    torch.backends.cudnn.benchmark = False"
      ],
      "metadata": {
        "id": "zsfaDQuK4bgo"
      },
      "execution_count": null,
      "outputs": []
    },
    {
      "cell_type": "code",
      "source": [
        "from transformers import AutoTokenizer\n",
        "\n",
        "device = torch.device(\"cuda\" if torch.cuda.is_available() else \"cpu\")\n",
        "tokenizer = AutoTokenizer.from_pretrained(\n",
        "    \"microsoft/Phi-3.5-mini-instruct\"\n",
        ")\n",
        "\n",
        "vocab_size = len(tokenizer)\n",
        "\n",
        "emb_dim, num_layers, batch_size, learning_rate, num_epochs = get_hyperparameters()\n",
        "\n",
        "data_url = \"https://www.thelmbook.com/data/news\"\n",
        "train_loader, test_loader = download_and_prepare_data( data_url, batch_size, tokenizer)\n",
        "\n",
        "model = RecurrentLanguageModel(\n",
        "    vocab_size, emb_dim, num_layers, tokenizer.pad_token_id\n",
        ")\n",
        "initialize_weights(model)\n",
        "model.to(device)\n",
        "\n",
        "criterion = nn.CrossEntropyLoss(ignore_index=tokenizer.pad_token_id)\n",
        "optimizer = torch.optim.AdamW(model.parameters(), lr=learning_rate)"
      ],
      "metadata": {
        "id": "-2hOtSsP073P"
      },
      "execution_count": null,
      "outputs": []
    },
    {
      "cell_type": "markdown",
      "source": [
        "## Training Loop"
      ],
      "metadata": {
        "id": "JA-Zxa_T5fX3"
      }
    },
    {
      "cell_type": "code",
      "source": [
        "for epoch in range(num_epochs):\n",
        "    model.train()\n",
        "    for batch in train_loader:\n",
        "        input_seq, target_seq = batch\n",
        "        input_seq = input_seq.to(device)\n",
        "        target_seq = target_seq.to(device)\n",
        "        batch_size_current, seq_len = input_seq.shape\n",
        "        optimizer.zero_grad()\n",
        "        output = model(input_seq)\n",
        "        output = output.reshape(batch_size_current * seq_len, vocab_size)\n",
        "\n",
        "        target = target_seq.reshape(batch_size_current * seq_len)\n",
        "        loss = criterion(output, target)\n",
        "        loss.backward()\n",
        "        optimizer.step()"
      ],
      "metadata": {
        "id": "7lXDNYaS7vB7"
      },
      "execution_count": null,
      "outputs": []
    },
    {
      "cell_type": "markdown",
      "source": [
        "## Dataset and DataLoader"
      ],
      "metadata": {
        "id": "IFHg51Np6hRf"
      }
    },
    {
      "cell_type": "code",
      "source": [
        "import json\n",
        "import torch\n",
        "from torch.utils.data import Dataset\n",
        "\n",
        "class JSONDataset(Dataset):\n",
        "    def __init__(self, file_path):\n",
        "        self.data = []\n",
        "        with open(file_path, 'r') as f:\n",
        "            for line in f:\n",
        "                item = json.loads(line)\n",
        "                features = [item['feature1'], item['feature2']]\n",
        "                label = item['label']\n",
        "                self.data.append((features, label))\n",
        "\n",
        "    def __len__(self):\n",
        "        return len(self.data)\n",
        "\n",
        "    def __getitem__(self, idx):\n",
        "        features, label = self.data[idx]\n",
        "        features = torch.tensor(features, dtype=torch.float32\n",
        " )\n",
        "        label = torch.tensor(label, dtype=torch.long)\n",
        "        return features, label\n"
      ],
      "metadata": {
        "id": "7bcWVk8g6Tvb"
      },
      "execution_count": null,
      "outputs": []
    },
    {
      "cell_type": "code",
      "source": [
        "from torch.utils.data import DataLoader\n",
        "\n",
        "dataset = JSONLDataset('data.jsonl')\n",
        "\n",
        "data_loader = DataLoader(\n",
        "    dataset,\n",
        "    batch_size=32, # Number of examples per batch\n",
        "    shuffle=True,  # Shuffle data at every epoch\n",
        "    num_workers=0  # Number of subprocesses for data loading\n",
        ")\n",
        "\n",
        "num_epochs = 5\n",
        "for epoch in range(num_epochs):\n",
        "    for batch_features, batch_labels in data_loader:\n",
        "        print(f\"Batch features shape: {batch_features.shape}\")\n",
        "        print(f\"Batch labels shape: {batch_labels.shape}\")"
      ],
      "metadata": {
        "id": "vvZcvYZV6mI_"
      },
      "execution_count": null,
      "outputs": []
    },
    {
      "cell_type": "markdown",
      "source": [
        "*The full implimentation can be found [here](https://github.com/aburkov/theLMbook/blob/main/news_RNN_language_model.ipynb)*"
      ],
      "metadata": {
        "id": "7XdyGZim6x7s"
      }
    }
  ]
}