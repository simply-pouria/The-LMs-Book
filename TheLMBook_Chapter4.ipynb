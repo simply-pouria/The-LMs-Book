{
  "nbformat": 4,
  "nbformat_minor": 0,
  "metadata": {
    "colab": {
      "provenance": [],
      "authorship_tag": "ABX9TyNilZE9RgCspvUyzNPIbuLJ",
      "include_colab_link": true
    },
    "kernelspec": {
      "name": "python3",
      "display_name": "Python 3"
    },
    "language_info": {
      "name": "python"
    }
  },
  "cells": [
    {
      "cell_type": "markdown",
      "metadata": {
        "id": "view-in-github",
        "colab_type": "text"
      },
      "source": [
        "<a href=\"https://colab.research.google.com/github/simply-pouria/The-LMs-Book/blob/main/TheLMBook_Chapter4.ipynb\" target=\"_parent\"><img src=\"https://colab.research.google.com/assets/colab-badge.svg\" alt=\"Open In Colab\"/></a>"
      ]
    },
    {
      "cell_type": "markdown",
      "source": [
        "# Transformer Implementation"
      ],
      "metadata": {
        "id": "OEN68XWSNTlh"
      }
    },
    {
      "cell_type": "markdown",
      "source": [
        "### Attention Head"
      ],
      "metadata": {
        "id": "WcVm3-FwNZQB"
      }
    },
    {
      "cell_type": "code",
      "execution_count": null,
      "metadata": {
        "id": "W3YXieMGM1cc"
      },
      "outputs": [],
      "source": [
        "class AttentionHead(nn.Module):\n",
        "    def __init__(self, emb_dim, d_h):\n",
        "        super().__init__()\n",
        "        self.W_Q = nn.Parameter(torch.empty(emb_dim, d_h))\n",
        "        self.W_K = nn.Parameter(torch.empty(emb_dim, d_h))\n",
        "        self.W_V = nn.Parameter(torch.empty(emb_dim, d_h))\n",
        "        self.d_h = d_h\n",
        "\n",
        "    def forward(self, x, mask):\n",
        "        Q = x @ self.W_Q\n",
        "        K = x @ self.W_K\n",
        "        V = x @ self.W_V\n",
        "\n",
        "        Q, K = rope(Q), rope(K)\n",
        "\n",
        "        scores = Q @ K.transpose(-2, -1) / math.sqrt(self.d_h )\n",
        "        masked_scores = scores.masked_fill(mask == 0, float(\"-inf\"))\n",
        "        attention_weights = torch.softmax(masked_scores, dim=-1)\n",
        "        return attention_weights @ V"
      ]
    },
    {
      "cell_type": "markdown",
      "source": [
        "### Multi-Head Attention Mechanism"
      ],
      "metadata": {
        "id": "VpBhdCM9UMVp"
      }
    },
    {
      "cell_type": "code",
      "source": [
        "class MultiHeadAttention(nn.Module):\n",
        "    def __init__(self, emb_dim, num_heads):\n",
        "        super().__init__()\n",
        "        d_h = emb_dim // num_heads\n",
        "        self.heads = nn.ModuleList([\n",
        "            AttentionHead(emb_dim, d_h)\n",
        "            for _ in range(num_heads)\n",
        "        ])\n",
        "        self.W_O = nn.Parameter(torch.empty(emb_dim, emb_dim))\n",
        "\n",
        "    def forward(self, x, mask):\n",
        "        head_outputs = [head(x, mask) for head in self.heads]\n",
        "        x = torch.cat(head_outputs, dim=-1)\n",
        "        return x @ self.W_O"
      ],
      "metadata": {
        "id": "m_NzFjEGOIzS"
      },
      "execution_count": null,
      "outputs": []
    },
    {
      "cell_type": "markdown",
      "source": [
        "### MLP"
      ],
      "metadata": {
        "id": "Kzp4zDTpW_vp"
      }
    },
    {
      "cell_type": "code",
      "source": [
        "class MLP(nn.Module):\n",
        "    def __init__(self, emb_dim):\n",
        "        super().__init__()\n",
        "        self.W_1 = nn.Parameter(torch.empty(emb_dim, emb_dim * 4))\n",
        "        self.B_1 = nn.Parameter(torch.empty(emb_dim * 4))\n",
        "        self.W_2 = nn.Parameter(torch.empty(emb_dim * 4, emb_dim))\n",
        "        self.B_2 = nn.Parameter(torch.empty(emb_dim))\n",
        "\n",
        "    def forward(self, x):\n",
        "        x = x @ self.W_1 + self.B_1\n",
        "        x = torch.relu(x)\n",
        "        x = x @ self.W_2 + self.B_2\n",
        "        return x"
      ],
      "metadata": {
        "id": "TIv7NfpsW-vF"
      },
      "execution_count": null,
      "outputs": []
    },
    {
      "cell_type": "markdown",
      "source": [
        "## Ceating the Decoder Block"
      ],
      "metadata": {
        "id": "9a1lP3X9XtYl"
      }
    },
    {
      "cell_type": "code",
      "source": [
        "class DecoderBlock(nn.Module):\n",
        "    def __init__(self, emb_dim, num_heads):\n",
        "        super().__init__()\n",
        "        self.norm1 = RMSNorm(emb_dim)\n",
        "        self.attn = MultiHeadAttention(emb_dim, num_heads)\n",
        "        self.norm2 = RMSNorm(emb_dim)\n",
        "        self.mlp = MLP(emb_dim)\n",
        "\n",
        "    def forward(self, x, mask):\n",
        "        attn_out = self.attn(self.norm1(x), mask)\n",
        "        x = x + attn_out\n",
        "        mlp_out = self.mlp(self.norm2(x))\n",
        "        x = x + mlp_out\n",
        "        return x"
      ],
      "metadata": {
        "id": "38VD-b0UXrYZ"
      },
      "execution_count": null,
      "outputs": []
    },
    {
      "cell_type": "markdown",
      "source": [
        "## Creating a Decoder Language Model"
      ],
      "metadata": {
        "id": "32PDmKLKY0tv"
      }
    },
    {
      "cell_type": "code",
      "source": [
        "class DecoderLanguageModel(nn.Module):\n",
        "    def __init__(\n",
        "        self, vocab_size, emb_dim,\n",
        "        num_heads, num_blocks, pad_idx):\n",
        "        super().__init__()\n",
        "        self.embedding = nn.Embedding(\n",
        "            vocab_size, emb_dim,\n",
        "            padding_idx=pad_idx)\n",
        "        self.layers = nn.ModuleList([\n",
        "            DecoderBlock(emb_dim, num_heads) for _ in range(num_blocks) ])\n",
        "        self.output = nn.Parameter(torch.rand(emb_dim, vocab_size))\n",
        "\n",
        "    def forward(self, x):\n",
        "        x = self.embedding(x)\n",
        "        _, seq_len, _ = x.shape\n",
        "        mask = torch.tril(torch.ones(seq_len, seq_len, device=x.device))\n",
        "        for layer in self.layers:\n",
        "          x = layer(x, mask)\n",
        "        return x @ self.output"
      ],
      "metadata": {
        "id": "65nLhnGvYchY"
      },
      "execution_count": null,
      "outputs": []
    },
    {
      "cell_type": "markdown",
      "source": [
        "[Full Implementation](https://github.com/aburkov/theLMbook/blob/main/news_decoder_language_model.ipynb)"
      ],
      "metadata": {
        "id": "7h1btVamiJoj"
      }
    }
  ]
}